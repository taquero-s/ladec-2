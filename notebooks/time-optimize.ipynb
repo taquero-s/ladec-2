{
 "cells": [
  {
   "cell_type": "code",
   "execution_count": null,
   "id": "e58c3c07-646e-4448-9cb9-8560ed548213",
   "metadata": {},
   "outputs": [],
   "source": [
    "import os\n",
    "\n",
    "os.chdir(\"/home/jovyan/ladec-2\")"
   ]
  },
  {
   "cell_type": "code",
   "execution_count": 1,
   "id": "b05071b0-0a49-41a3-b9b0-5bb5dc14af77",
   "metadata": {},
   "outputs": [
    {
     "name": "stdout",
     "output_type": "stream",
     "text": [
      "\u001b[31mERROR: Could not open requirements file: [Errno 2] No such file or directory: 'requirements.txt'\u001b[0m\u001b[31m\n",
      "\u001b[0mNote: you may need to restart the kernel to use updated packages.\n"
     ]
    }
   ],
   "source": [
    "%pip install -r requirements.txt"
   ]
  },
  {
   "cell_type": "code",
   "execution_count": 6,
   "id": "4a0c9dc4-90ae-412f-a9a5-056d2debdc4e",
   "metadata": {},
   "outputs": [
    {
     "name": "stdout",
     "output_type": "stream",
     "text": [
      "Collecting polars\n",
      "  Obtaining dependency information for polars from https://files.pythonhosted.org/packages/e5/25/bf5d43dcb538bf6573b15f3d5995a52be61b8fbce0cd737e72c4d25eef88/polars-1.9.0-cp38-abi3-manylinux_2_24_aarch64.whl.metadata\n",
      "  Downloading polars-1.9.0-cp38-abi3-manylinux_2_24_aarch64.whl.metadata (14 kB)\n",
      "Downloading polars-1.9.0-cp38-abi3-manylinux_2_24_aarch64.whl (29.8 MB)\n",
      "\u001b[2K   \u001b[90m━━━━━━━━━━━━━━━━━━━━━━━━━━━━━━━━━━━━━━━━\u001b[0m \u001b[32m29.8/29.8 MB\u001b[0m \u001b[31m7.6 MB/s\u001b[0m eta \u001b[36m0:00:00\u001b[0m00:01\u001b[0m00:01\u001b[0m\n",
      "\u001b[?25hInstalling collected packages: polars\n",
      "Successfully installed polars-1.9.0\n",
      "Note: you may need to restart the kernel to use updated packages.\n"
     ]
    }
   ],
   "source": [
    "%pip install polars"
   ]
  },
  {
   "cell_type": "code",
   "execution_count": 235,
   "id": "5ee80239-f31f-4cb7-9dad-f5bc4113cc3d",
   "metadata": {},
   "outputs": [],
   "source": [
    "import polars as pl\n",
    "import emoji\n",
    "\n",
    "from src.solutions import Baseline"
   ]
  },
  {
   "cell_type": "markdown",
   "id": "7f87f935-8cc5-47da-9ccb-c7e65ed197e9",
   "metadata": {},
   "source": [
    "Optimization of solution's exec time will be done using the polars framework, since it lets us define a schema and use lazy frames for execution optimization"
   ]
  },
  {
   "cell_type": "code",
   "execution_count": 32,
   "id": "62ee9528-873c-4b61-a077-b17d26c37bfb",
   "metadata": {},
   "outputs": [],
   "source": [
    "dataset = \"./data/farmers-protest-tweets-2021-2-4.json\""
   ]
  },
  {
   "cell_type": "markdown",
   "id": "32ea5a44-2c8a-4fb7-b16b-e5aece6c2cdb",
   "metadata": {},
   "source": [
    "# Q1\n"
   ]
  },
  {
   "cell_type": "code",
   "execution_count": 125,
   "id": "f7787e8f-2014-4973-921b-59627040eabc",
   "metadata": {},
   "outputs": [
    {
     "name": "stdout",
     "output_type": "stream",
     "text": [
      "CPU times: user 2.63 s, sys: 59.8 ms, total: 2.69 s\n",
      "Wall time: 2.69 s\n"
     ]
    },
    {
     "data": {
      "text/plain": [
       "[(datetime.date(2021, 2, 12), 'RanbirS00614606'),\n",
       " (datetime.date(2021, 2, 13), 'MaanDee08215437'),\n",
       " (datetime.date(2021, 2, 17), 'RaaJVinderkaur'),\n",
       " (datetime.date(2021, 2, 16), 'jot__b'),\n",
       " (datetime.date(2021, 2, 14), 'rebelpacifist'),\n",
       " (datetime.date(2021, 2, 18), 'neetuanjle_nitu'),\n",
       " (datetime.date(2021, 2, 15), 'jot__b'),\n",
       " (datetime.date(2021, 2, 20), 'MangalJ23056160'),\n",
       " (datetime.date(2021, 2, 23), 'Surrypuria'),\n",
       " (datetime.date(2021, 2, 19), 'Preetm91')]"
      ]
     },
     "execution_count": 125,
     "metadata": {},
     "output_type": "execute_result"
    }
   ],
   "source": [
    "%%time\n",
    "Baseline(dataset).q1()"
   ]
  },
  {
   "cell_type": "code",
   "execution_count": 185,
   "id": "697ca15a-8a59-406e-ac09-91306a70e368",
   "metadata": {},
   "outputs": [
    {
     "name": "stdout",
     "output_type": "stream",
     "text": [
      "CPU times: user 821 ms, sys: 59.2 ms, total: 880 ms\n",
      "Wall time: 883 ms\n"
     ]
    }
   ],
   "source": [
    "%%time\n",
    "# pdf = pl.read_ndjson(dataset, ignore_errors = True)\n",
    "# schema = pdf.schema\n",
    "schema = {\n",
    "    \"date\": pl.String(),\n",
    "    \"content\": pl.String(),\n",
    "    \"user\": pl.Struct({\"username\": pl.String()}),\n",
    "    \"mentionedUsers\": pl.List(pl.Struct({\"username\": pl.String()}))\n",
    "}\n",
    "plf = pl.read_ndjson(\n",
    "    dataset,\n",
    "    schema=schema,\n",
    ")\n"
   ]
  },
  {
   "cell_type": "code",
   "execution_count": 186,
   "id": "136ae017-a741-4dec-908b-f32f3d9991d8",
   "metadata": {},
   "outputs": [
    {
     "name": "stdout",
     "output_type": "stream",
     "text": [
      "CPU times: user 100 ms, sys: 7.73 ms, total: 108 ms\n",
      "Wall time: 73.7 ms\n"
     ]
    },
    {
     "data": {
      "text/plain": [
       "[(datetime.datetime(2021, 2, 12, 0, 0, tzinfo=zoneinfo.ZoneInfo(key='UTC')),\n",
       "  'RanbirS00614606'),\n",
       " (datetime.datetime(2021, 2, 13, 0, 0, tzinfo=zoneinfo.ZoneInfo(key='UTC')),\n",
       "  'MaanDee08215437'),\n",
       " (datetime.datetime(2021, 2, 17, 0, 0, tzinfo=zoneinfo.ZoneInfo(key='UTC')),\n",
       "  'RaaJVinderkaur'),\n",
       " (datetime.datetime(2021, 2, 16, 0, 0, tzinfo=zoneinfo.ZoneInfo(key='UTC')),\n",
       "  'jot__b'),\n",
       " (datetime.datetime(2021, 2, 14, 0, 0, tzinfo=zoneinfo.ZoneInfo(key='UTC')),\n",
       "  'rebelpacifist'),\n",
       " (datetime.datetime(2021, 2, 18, 0, 0, tzinfo=zoneinfo.ZoneInfo(key='UTC')),\n",
       "  'neetuanjle_nitu'),\n",
       " (datetime.datetime(2021, 2, 15, 0, 0, tzinfo=zoneinfo.ZoneInfo(key='UTC')),\n",
       "  'jot__b'),\n",
       " (datetime.datetime(2021, 2, 20, 0, 0, tzinfo=zoneinfo.ZoneInfo(key='UTC')),\n",
       "  'MangalJ23056160'),\n",
       " (datetime.datetime(2021, 2, 23, 0, 0, tzinfo=zoneinfo.ZoneInfo(key='UTC')),\n",
       "  'Surrypuria'),\n",
       " (datetime.datetime(2021, 2, 19, 0, 0, tzinfo=zoneinfo.ZoneInfo(key='UTC')),\n",
       "  'Preetm91')]"
      ]
     },
     "execution_count": 186,
     "metadata": {},
     "output_type": "execute_result"
    }
   ],
   "source": [
    "%%time\n",
    "response = (\n",
    "    plf.select(\n",
    "        pl.col('date').str.to_datetime().dt.truncate('1d'),\n",
    "        pl.col(\"user\").struct.field(\"username\"),\n",
    "    )\n",
    "    .group_by(\"date\", \"username\")\n",
    "    .agg(pl.len().alias(\"freq\"))\n",
    "    .with_columns(max_freq=pl.col(\"freq\").max().over(\"date\"))\n",
    "    .group_by(\"date\")\n",
    "    .agg(\n",
    "        pl.when(pl.col(\"freq\") == pl.col(\"max_freq\")).then(\"username\").drop_nulls().first(),\n",
    "        pl.col(\"freq\").sum(),\n",
    "    )\n",
    "    .sort(\"freq\", descending = True)\n",
    "    .select(\"date\", \"username\")\n",
    "    .limit(10)\n",
    ")\n",
    "# response = query.collect()\n",
    "list(zip(*response.to_dict(as_series = False).values()))\n"
   ]
  },
  {
   "cell_type": "markdown",
   "id": "3e554611-557a-4057-819e-503adde3c69e",
   "metadata": {},
   "source": [
    "# Q2"
   ]
  },
  {
   "cell_type": "code",
   "execution_count": 155,
   "id": "bedb6b68-4ac8-41e5-9483-f693669fb59e",
   "metadata": {},
   "outputs": [
    {
     "name": "stdout",
     "output_type": "stream",
     "text": [
      "CPU times: user 10.8 s, sys: 183 ms, total: 11 s\n",
      "Wall time: 10.5 s\n"
     ]
    },
    {
     "data": {
      "text/plain": [
       "[('🙏', 5049),\n",
       " ('😂', 3072),\n",
       " ('🚜', 2972),\n",
       " ('🌾', 2182),\n",
       " ('🇮🇳', 2086),\n",
       " ('🤣', 1668),\n",
       " ('✊', 1651),\n",
       " ('❤️', 1382),\n",
       " ('🙏🏻', 1317),\n",
       " ('💚', 1040)]"
      ]
     },
     "execution_count": 155,
     "metadata": {},
     "output_type": "execute_result"
    }
   ],
   "source": [
    "%%time\n",
    "Baseline(dataset).q2()"
   ]
  },
  {
   "cell_type": "code",
   "execution_count": 277,
   "id": "2cebb3ad-77e5-4380-8633-c8c80ca22a05",
   "metadata": {},
   "outputs": [
    {
     "name": "stdout",
     "output_type": "stream",
     "text": [
      "CPU times: user 8.5 s, sys: 0 ns, total: 8.5 s\n",
      "Wall time: 8.49 s\n"
     ]
    },
    {
     "data": {
      "text/plain": [
       "[('narendramodi', 2265),\n",
       " ('Kisanektamorcha', 1840),\n",
       " ('RakeshTikaitBKU', 1644),\n",
       " ('PMOIndia', 1427),\n",
       " ('RahulGandhi', 1146),\n",
       " ('GretaThunberg', 1048),\n",
       " ('RaviSinghKA', 1019),\n",
       " ('rihanna', 986),\n",
       " ('UNHumanRights', 962),\n",
       " ('meenaharris', 926)]"
      ]
     },
     "execution_count": 277,
     "metadata": {},
     "output_type": "execute_result"
    }
   ],
   "source": [
    "%%time\n",
    "(\n",
    "    plf.select(\"content\").with_columns(\n",
    "        emojis = pl.col(\"content\").map_elements(\n",
    "            lambda x: [token.chars for token in emoji.analyze(x)],\n",
    "            return_dtype=pl.List(pl.String())\n",
    "        )\n",
    "    )\n",
    "    .filter(pl.col(\"emojis\").list.len() > 0)\n",
    "    .select(pl.col(\"emojis\").list.explode())\n",
    "    .group_by(\"emojis\").len()\n",
    "    .sort(\"len\", descending = True)\n",
    "    .limit(10)\n",
    ")\n",
    "list(zip(*response.to_dict(as_series = False).values()))\n"
   ]
  },
  {
   "cell_type": "markdown",
   "id": "e0cf4109-d86b-464a-bd47-27dc33eea2ed",
   "metadata": {},
   "source": [
    "# Q3"
   ]
  },
  {
   "cell_type": "code",
   "execution_count": 182,
   "id": "4197cbd7-817a-4aea-bf6e-9b39f6cc7fa4",
   "metadata": {},
   "outputs": [
    {
     "name": "stdout",
     "output_type": "stream",
     "text": [
      "CPU times: user 2.7 s, sys: 115 ms, total: 2.82 s\n",
      "Wall time: 2.81 s\n"
     ]
    },
    {
     "data": {
      "text/plain": [
       "[('narendramodi', 2265),\n",
       " ('Kisanektamorcha', 1840),\n",
       " ('RakeshTikaitBKU', 1644),\n",
       " ('PMOIndia', 1427),\n",
       " ('RahulGandhi', 1146),\n",
       " ('GretaThunberg', 1048),\n",
       " ('RaviSinghKA', 1019),\n",
       " ('rihanna', 986),\n",
       " ('UNHumanRights', 962),\n",
       " ('meenaharris', 926)]"
      ]
     },
     "execution_count": 182,
     "metadata": {},
     "output_type": "execute_result"
    }
   ],
   "source": [
    "%%time\n",
    "Baseline(dataset).q3()"
   ]
  },
  {
   "cell_type": "code",
   "execution_count": 190,
   "id": "ff002876-f64b-44e8-bbae-5b3513bb639d",
   "metadata": {},
   "outputs": [
    {
     "name": "stdout",
     "output_type": "stream",
     "text": [
      "CPU times: user 28.4 ms, sys: 14.7 ms, total: 43.1 ms\n",
      "Wall time: 23.5 ms\n"
     ]
    },
    {
     "data": {
      "text/plain": [
       "[('narendramodi', 2265),\n",
       " ('Kisanektamorcha', 1840),\n",
       " ('RakeshTikaitBKU', 1644),\n",
       " ('PMOIndia', 1427),\n",
       " ('RahulGandhi', 1146),\n",
       " ('GretaThunberg', 1048),\n",
       " ('RaviSinghKA', 1019),\n",
       " ('rihanna', 986),\n",
       " ('UNHumanRights', 962),\n",
       " ('meenaharris', 926)]"
      ]
     },
     "execution_count": 190,
     "metadata": {},
     "output_type": "execute_result"
    }
   ],
   "source": [
    "%%time\n",
    "response = (\n",
    "    plf.filter(pl.col(\"mentionedUsers\").is_not_null())\n",
    "    .select(pl.col(\"mentionedUsers\").explode().struct.field(\"username\"))\n",
    "    .group_by(\"username\")\n",
    "    .len()\n",
    "    .sort(\"len\", descending = True)\n",
    "    .limit(10)\n",
    ")\n",
    "# response = query.collect()\n",
    "list(zip(*response.to_dict(as_series = False).values()))\n"
   ]
  },
  {
   "cell_type": "code",
   "execution_count": null,
   "id": "09962d65-80f6-4dfc-9de6-fede1b40f829",
   "metadata": {},
   "outputs": [],
   "source": []
  }
 ],
 "metadata": {
  "kernelspec": {
   "display_name": "Python 3 (ipykernel)",
   "language": "python",
   "name": "python3"
  },
  "language_info": {
   "codemirror_mode": {
    "name": "ipython",
    "version": 3
   },
   "file_extension": ".py",
   "mimetype": "text/x-python",
   "name": "python",
   "nbconvert_exporter": "python",
   "pygments_lexer": "ipython3",
   "version": "3.11.4"
  }
 },
 "nbformat": 4,
 "nbformat_minor": 5
}
